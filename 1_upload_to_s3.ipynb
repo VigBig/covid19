{
 "cells": [
  {
   "cell_type": "code",
   "execution_count": 2,
   "metadata": {},
   "outputs": [
    {
     "data": {
      "text/plain": [
       "'\\n\\n@Author: Vighnesh Harish Bilgi\\n@Date: 2022-12-12\\n@Last Modified by: Vighnesh Harish Bilgi\\n@Last Modified time: 2022-12-12\\n@Title : 1 - Upload covid-19 datasets to S3 bucket\\n\\n'"
      ]
     },
     "execution_count": 2,
     "metadata": {},
     "output_type": "execute_result"
    }
   ],
   "source": [
    "'''\n",
    "\n",
    "@Author: Vighnesh Harish Bilgi\n",
    "@Date: 2022-12-12\n",
    "@Last Modified by: Vighnesh Harish Bilgi\n",
    "@Last Modified time: 2022-12-12\n",
    "@Title : 1 - Upload covid-19 datasets to S3 bucket\n",
    "\n",
    "'''"
   ]
  },
  {
   "cell_type": "code",
   "execution_count": 20,
   "metadata": {},
   "outputs": [],
   "source": [
    "import boto3\n",
    "import pandas as pd\n",
    "import json\n",
    "import gzip\n",
    "import shutil"
   ]
  },
  {
   "cell_type": "code",
   "execution_count": 4,
   "metadata": {},
   "outputs": [],
   "source": [
    "import os\n",
    "os.environ['AWS_DEFAULT_REGION'] = 'us-east-1'\n",
    "os.environ['AWS_ACCESS_KEY_ID'] = os.environ.get('test1_access_key')\n",
    "os.environ['AWS_SECRET_ACCESS_KEY'] = os.environ.get('test1_secret_access_key')\n",
    "BUCKET_NAME = \"covid19-input-bucket\""
   ]
  },
  {
   "attachments": {},
   "cell_type": "markdown",
   "metadata": {},
   "source": [
    "### Custom function to connect to S3 service"
   ]
  },
  {
   "cell_type": "code",
   "execution_count": 6,
   "metadata": {},
   "outputs": [],
   "source": [
    "def connect_to_s3_client():\n",
    "    \"\"\"\n",
    "\n",
    "    Description:\n",
    "        To connect to AWS S3 service.\n",
    "    Parameter:\n",
    "        No parameters\n",
    "    Return:\n",
    "        ServiceResource s3\n",
    "    \"\"\"\n",
    "    # s3 =  boto3.resource('s3')\n",
    "    client = boto3.client(\"s3\")\n",
    "    return client\n",
    "\n",
    "\n",
    "def connect_to_s3_resource():\n",
    "    \"\"\"\n",
    "\n",
    "    Description:\n",
    "        To connect to AWS S3 service through an IAM user.\n",
    "    Parameter:\n",
    "        No parameters\n",
    "    Return:\n",
    "        ServiceResource s3\n",
    "    \"\"\"\n",
    "    s3 =  boto3.resource(service_name = 's3')\n",
    "    return s3"
   ]
  },
  {
   "attachments": {},
   "cell_type": "markdown",
   "metadata": {},
   "source": [
    "### Custom function to convert file to .csv"
   ]
  },
  {
   "cell_type": "code",
   "execution_count": 14,
   "metadata": {},
   "outputs": [],
   "source": [
    "def file_to_csv(filename):\n",
    "    \"\"\"\n",
    "\n",
    "    Description:\n",
    "        To read records/dictionaries from text file and convert it into a .csv file.\n",
    "    Parameter:\n",
    "        string filename\n",
    "    Return:\n",
    "        Dataframe df\n",
    "    \"\"\"\n",
    "    with open(filename, encoding=\"ISO-8859–1\") as file:\n",
    "            data = file.read()\n",
    "            list_of_incomp_str_dict = data.split('}')\n",
    "    \n",
    "    # print(list_of_incomp_str_dict)\n",
    "\n",
    "    list_of_comp_str_dict = []\n",
    "\n",
    "    for inc_dict in list_of_incomp_str_dict:\n",
    "        list_of_comp_str_dict.append(inc_dict+\"}\")\n",
    "\n",
    "    list_of_comp_str_dict.pop()\n",
    "    # print(list_of_comp_str_dict)\n",
    "\n",
    "    #Now we convert dictionary as string to dictionary\n",
    "    list_of_dict = []\n",
    "\n",
    "    for str_dict in list_of_comp_str_dict:\n",
    "        list_of_dict.append(json.loads(str_dict))\n",
    "\n",
    "    df = pd.DataFrame(list_of_dict)\n",
    "    \n",
    "    return df"
   ]
  },
  {
   "attachments": {},
   "cell_type": "markdown",
   "metadata": {},
   "source": [
    "### Creating S3 bucket"
   ]
  },
  {
   "cell_type": "code",
   "execution_count": 5,
   "metadata": {},
   "outputs": [
    {
     "name": "stdout",
     "output_type": "stream",
     "text": [
      "Printing all bucket names to verify if - covid19-input-bucket is created:\n",
      "auto-load-bucket\n",
      "aws-cloudtrail-logs-949401335332-4af97cdf\n",
      "aws-cloudtrail-logs-949401335332-a2ad74b3\n",
      "covid19-input-bucket\n"
     ]
    }
   ],
   "source": [
    "s3 = connect_to_s3_resource()\n",
    "client = connect_to_s3_client()\n",
    "\n",
    "# creating new bucket\n",
    "client.create_bucket(Bucket = BUCKET_NAME)\n",
    "print(f\"Printing all bucket names to verify if - {BUCKET_NAME} is created:\")\n",
    "for bucket in s3.buckets.all():\n",
    "    print(bucket.name)"
   ]
  },
  {
   "attachments": {},
   "cell_type": "markdown",
   "metadata": {},
   "source": [
    "### Uploading each COVID dataset to the S3 bucket"
   ]
  },
  {
   "attachments": {},
   "cell_type": "markdown",
   "metadata": {},
   "source": [
    "#### Unzipping the 'enigma-jhud' .gz folder to extract the .csv file "
   ]
  },
  {
   "cell_type": "code",
   "execution_count": 22,
   "metadata": {},
   "outputs": [
    {
     "name": "stdout",
     "output_type": "stream",
     "text": [
      "Compressed file ended before the end-of-stream marker was reached\n"
     ]
    }
   ],
   "source": [
    "try:\n",
    "    with gzip.open('enigma-jhud\\csv\\Enigma-JHU.csv.gz.014c84bE.gz', 'rb') as f_in:\n",
    "        with open('enigma-jhud\\csv\\Enigma-JHU.csv.gz.014c84bE.csv', 'wb') as f_out:\n",
    "            shutil.copyfileobj(f_in, f_out)\n",
    "except Exception as e:\n",
    "    print(e)"
   ]
  },
  {
   "attachments": {},
   "cell_type": "markdown",
   "metadata": {},
   "source": [
    "#### Uploading the 'enigma-jhud' file to the bucket"
   ]
  },
  {
   "cell_type": "code",
   "execution_count": null,
   "metadata": {},
   "outputs": [],
   "source": [
    "file_path = r\"enigma-jhud\\csv\\Enigma-JHU.csv.gz.014c84bE.csv\"\n",
    "file_path_key = file_path.replace(\"\\\\\", \"/\" )\n",
    "client.upload_file(Filename = file_path,Bucket = BUCKET_NAME, Key = file_path_key)    "
   ]
  },
  {
   "attachments": {},
   "cell_type": "markdown",
   "metadata": {},
   "source": [
    "#### Uploading the 'us-county' dataset to the bucket"
   ]
  },
  {
   "cell_type": "code",
   "execution_count": 33,
   "metadata": {},
   "outputs": [],
   "source": [
    "file_path = r\"enigma-nytimes-data-in-usa\\csv\\us_county\\us_county.csv.fDde7E2b\"\n",
    "file_path_key = file_path.replace(\"\\\\\", \"/\" )\n",
    "client.upload_file(Filename = file_path,Bucket = BUCKET_NAME, Key = file_path_key)"
   ]
  },
  {
   "attachments": {},
   "cell_type": "markdown",
   "metadata": {},
   "source": [
    "#### Uploading the 'us-states' dataset to the bucket"
   ]
  },
  {
   "cell_type": "code",
   "execution_count": 34,
   "metadata": {},
   "outputs": [],
   "source": [
    "file_path = r\"enigma-nytimes-data-in-usa\\csv\\us_states\\us_states.csv\"\n",
    "file_path_key = file_path.replace(\"\\\\\", \"/\" )\n",
    "client.upload_file(Filename = file_path,Bucket = BUCKET_NAME, Key = file_path_key)"
   ]
  },
  {
   "cell_type": "code",
   "execution_count": 35,
   "metadata": {},
   "outputs": [],
   "source": [
    "file_path = r\"enigma-nytimes-data-in-usa\\json\\us_states\\part-00000-ef8ae09e-40cc-486f-a91a-ced8e16a03eb-c000.json\"\n",
    "file_path_key = file_path.replace(\"\\\\\", \"/\" )\n",
    "client.upload_file(Filename = file_path,Bucket = BUCKET_NAME, Key = file_path_key)"
   ]
  },
  {
   "attachments": {},
   "cell_type": "markdown",
   "metadata": {},
   "source": [
    "#### Uploading the 'states-daily' dataset to the bucket"
   ]
  },
  {
   "cell_type": "code",
   "execution_count": 36,
   "metadata": {},
   "outputs": [],
   "source": [
    "file_path = \"rearc-covid-19-testing-data\\csv\\states_daily\\states_daily.csv.DD2BE07f\"\n",
    "file_path_key = file_path.replace(\"\\\\\", \"/\" )\n",
    "client.upload_file(Filename = file_path,Bucket = BUCKET_NAME, Key = file_path_key)"
   ]
  },
  {
   "attachments": {},
   "cell_type": "markdown",
   "metadata": {},
   "source": [
    "#### Uploading the 'us-daily' dataset to the bucket"
   ]
  },
  {
   "cell_type": "code",
   "execution_count": 37,
   "metadata": {},
   "outputs": [],
   "source": [
    "file_path = r\"rearc-covid-19-testing-data\\csv\\us_daily\\us_daily.csv\"\n",
    "file_path_key = file_path.replace(\"\\\\\", \"/\" )\n",
    "client.upload_file(Filename = file_path,Bucket = BUCKET_NAME, Key = file_path_key)"
   ]
  },
  {
   "attachments": {},
   "cell_type": "markdown",
   "metadata": {},
   "source": [
    "#### Uploading the 'us-total-latest' dataset to the bucket"
   ]
  },
  {
   "cell_type": "code",
   "execution_count": 38,
   "metadata": {},
   "outputs": [],
   "source": [
    "file_path = r\"rearc-covid-19-testing-data\\csv\\us-total-latest\\us.csv\"\n",
    "file_path_key = file_path.replace(\"\\\\\", \"/\" )\n",
    "client.upload_file(Filename = file_path,Bucket = BUCKET_NAME, Key = file_path_key)"
   ]
  },
  {
   "cell_type": "code",
   "execution_count": 39,
   "metadata": {},
   "outputs": [],
   "source": [
    "file_path = \"rearc-covid-19-testing-data\\json\\states_daily\\part-00000-349d9bd9-a37f-4ac2-bcad-da29873fdf10-c000.json.93db33f9\"\n",
    "file_path_key = file_path.replace(\"\\\\\", \"/\" )\n",
    "client.upload_file(Filename = file_path,Bucket = BUCKET_NAME, Key = file_path_key)"
   ]
  },
  {
   "cell_type": "code",
   "execution_count": 40,
   "metadata": {},
   "outputs": [],
   "source": [
    "file_path = r\"rearc-covid-19-testing-data\\json\\us_daily\\part-00000-41160f2e-4b45-479b-ae5e-acbc0a0026a5-c000.json\"\n",
    "file_path_key = file_path.replace(\"\\\\\", \"/\" )\n",
    "client.upload_file(Filename = file_path,Bucket = BUCKET_NAME, Key = file_path_key)"
   ]
  },
  {
   "cell_type": "code",
   "execution_count": 41,
   "metadata": {},
   "outputs": [],
   "source": [
    "file_path = r\"rearc-covid-19-testing-data\\json\\us-total-latest\\part-00000-f2e315e2-6055-4fef-98d1-1e620b265158-c000.json\"\n",
    "file_path_key = file_path.replace(\"\\\\\", \"/\" )\n",
    "client.upload_file(Filename = file_path,Bucket = BUCKET_NAME, Key = file_path_key)"
   ]
  },
  {
   "attachments": {},
   "cell_type": "markdown",
   "metadata": {},
   "source": [
    "#### Uploading the 'usa-hospital-beds' dataset to the bucket"
   ]
  },
  {
   "cell_type": "code",
   "execution_count": 59,
   "metadata": {},
   "outputs": [],
   "source": [
    "file_path = r\"rearc-usa-hospital-beds\\usa-hospital-beds.geojson.4cCa297c\"\n",
    "df = file_to_csv(file_path)\n",
    "df.to_csv(f'{file_path}.csv', index=False, header=True)\n",
    "\n",
    "file_path = f'{file_path}.csv'\n",
    "file_path_key = file_path.replace(\"\\\\\", \"/\" )\n",
    "client.upload_file(Filename = file_path,Bucket = BUCKET_NAME, Key = file_path_key)"
   ]
  },
  {
   "attachments": {},
   "cell_type": "markdown",
   "metadata": {},
   "source": [
    "#### Uploading the 'us-countrycode' dataset to the bucket"
   ]
  },
  {
   "cell_type": "code",
   "execution_count": 43,
   "metadata": {},
   "outputs": [],
   "source": [
    "file_path = \"static-datasets\\csv\\countrycode\\CountryCodeQS.csv\"\n",
    "file_path_key = file_path.replace(\"\\\\\", \"/\" )\n",
    "client.upload_file(Filename = file_path,Bucket = BUCKET_NAME, Key = file_path_key)"
   ]
  },
  {
   "attachments": {},
   "cell_type": "markdown",
   "metadata": {},
   "source": [
    "#### Uploading the 'countypopulation' dataset to the bucket"
   ]
  },
  {
   "cell_type": "code",
   "execution_count": 44,
   "metadata": {},
   "outputs": [],
   "source": [
    "file_path = \"static-datasets\\csv\\CountyPopulation\\County_Population.csv\"\n",
    "file_path_key = file_path.replace(\"\\\\\", \"/\" )\n",
    "client.upload_file(Filename = file_path,Bucket = BUCKET_NAME, Key = file_path_key)"
   ]
  },
  {
   "attachments": {},
   "cell_type": "markdown",
   "metadata": {},
   "source": [
    "#### Uploading the 'state-abv' dataset to the bucket"
   ]
  },
  {
   "cell_type": "code",
   "execution_count": 48,
   "metadata": {},
   "outputs": [],
   "source": [
    "file_path = \"static-datasets\\csv\\state-abv\\states_abv.csv\"\n",
    "file_path_key = file_path.replace(\"\\\\\", \"/\" )\n",
    "client.upload_file(Filename = file_path,Bucket = BUCKET_NAME, Key = file_path_key)"
   ]
  },
  {
   "cell_type": "code",
   "execution_count": 49,
   "metadata": {},
   "outputs": [],
   "source": [
    "file_path = \"static-datasets\\json\\countrycode\\part-00000-eb56cbf7-e81a-463b-99a0-fee413e79475-c000.json\"\n",
    "file_path_key = file_path.replace(\"\\\\\", \"/\" )\n",
    "client.upload_file(Filename = file_path,Bucket = BUCKET_NAME, Key = file_path_key)"
   ]
  },
  {
   "cell_type": "code",
   "execution_count": 50,
   "metadata": {},
   "outputs": [],
   "source": [
    "file_path = \"static-datasets\\json\\state-abv\\part-00000-7354f86c-52dd-4eb7-9ad4-5a4425778ea3-c000.json\"\n",
    "file_path_key = file_path.replace(\"\\\\\", \"/\" )\n",
    "client.upload_file(Filename = file_path,Bucket = BUCKET_NAME, Key = file_path_key)"
   ]
  }
 ],
 "metadata": {
  "kernelspec": {
   "display_name": "Python 3",
   "language": "python",
   "name": "python3"
  },
  "language_info": {
   "codemirror_mode": {
    "name": "ipython",
    "version": 3
   },
   "file_extension": ".py",
   "mimetype": "text/x-python",
   "name": "python",
   "nbconvert_exporter": "python",
   "pygments_lexer": "ipython3",
   "version": "3.8.10 (tags/v3.8.10:3d8993a, May  3 2021, 11:48:03) [MSC v.1928 64 bit (AMD64)]"
  },
  "orig_nbformat": 4,
  "vscode": {
   "interpreter": {
    "hash": "570feb405e2e27c949193ac68f46852414290d515b0ba6e5d90d076ed2284471"
   }
  }
 },
 "nbformat": 4,
 "nbformat_minor": 2
}
